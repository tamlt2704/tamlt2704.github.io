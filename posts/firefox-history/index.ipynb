{
 "cells": [
  {
   "cell_type": "code",
   "execution_count": 30,
   "metadata": {},
   "outputs": [],
   "source": [
    "import matplotlib.pyplot as plt\n",
    "import pandas as pd\n",
    "import heapq\n",
    "%matplotlib inline"
   ]
  },
  {
   "cell_type": "code",
   "execution_count": 19,
   "metadata": {},
   "outputs": [
    {
     "data": {
      "text/html": [
       "<div>\n",
       "<style scoped>\n",
       "    .dataframe tbody tr th:only-of-type {\n",
       "        vertical-align: middle;\n",
       "    }\n",
       "\n",
       "    .dataframe tbody tr th {\n",
       "        vertical-align: top;\n",
       "    }\n",
       "\n",
       "    .dataframe thead th {\n",
       "        text-align: right;\n",
       "    }\n",
       "</style>\n",
       "<table border=\"1\" class=\"dataframe\">\n",
       "  <thead>\n",
       "    <tr style=\"text-align: right;\">\n",
       "      <th></th>\n",
       "      <th>from_visit</th>\n",
       "      <th>date_visit</th>\n",
       "      <th>domain</th>\n",
       "      <th>nb_visit</th>\n",
       "    </tr>\n",
       "  </thead>\n",
       "  <tbody>\n",
       "    <tr>\n",
       "      <th>0</th>\n",
       "      <td>0</td>\n",
       "      <td>2017-08-03 07:44:07</td>\n",
       "      <td>mozilla.org</td>\n",
       "      <td>1</td>\n",
       "    </tr>\n",
       "    <tr>\n",
       "      <th>1</th>\n",
       "      <td>0</td>\n",
       "      <td>2017-08-03 07:44:11</td>\n",
       "      <td>gmail.com</td>\n",
       "      <td>1</td>\n",
       "    </tr>\n",
       "    <tr>\n",
       "      <th>2</th>\n",
       "      <td>0</td>\n",
       "      <td>2017-08-03 07:54:17</td>\n",
       "      <td>gmail.com</td>\n",
       "      <td>1</td>\n",
       "    </tr>\n",
       "    <tr>\n",
       "      <th>3</th>\n",
       "      <td>0</td>\n",
       "      <td>2017-08-05 07:37:29</td>\n",
       "      <td>gmail.com</td>\n",
       "      <td>1</td>\n",
       "    </tr>\n",
       "    <tr>\n",
       "      <th>4</th>\n",
       "      <td>0</td>\n",
       "      <td>2017-08-07 00:59:10</td>\n",
       "      <td>gmail.com</td>\n",
       "      <td>1</td>\n",
       "    </tr>\n",
       "  </tbody>\n",
       "</table>\n",
       "</div>"
      ],
      "text/plain": [
       "   from_visit          date_visit       domain  nb_visit\n",
       "0           0 2017-08-03 07:44:07  mozilla.org         1\n",
       "1           0 2017-08-03 07:44:11    gmail.com         1\n",
       "2           0 2017-08-03 07:54:17    gmail.com         1\n",
       "3           0 2017-08-05 07:37:29    gmail.com         1\n",
       "4           0 2017-08-07 00:59:10    gmail.com         1"
      ]
     },
     "execution_count": 19,
     "metadata": {},
     "output_type": "execute_result"
    }
   ],
   "source": [
    "df = pd.read_csv('./firefox_history.csv')\n",
    "df['date_visit'] = pd.to_datetime(df['date_visit'])\n",
    "df['nb_visit'] = 1\n",
    "df.head()"
   ]
  },
  {
   "cell_type": "code",
   "execution_count": 46,
   "metadata": {},
   "outputs": [
    {
     "data": {
      "image/png": "[encoded data removed]",
      "text/plain": [
       "<matplotlib.figure.Figure at 0x7f0ace8eb950>"
      ]
     },
     "metadata": {},
     "output_type": "display_data"
    }
   ],
   "source": [
    "#df.groupby(['domain'])['nb_visit'].sum().reset_index().sort_values(['nb_visit'])\n",
    "df = df[~df.domain.isna()]\n",
    "fig = plt.figure()\n",
    "ax = fig.add_subplot(111)\n",
    "pd.DataFrame(Counter(df.domain).most_common(15), columns=['domain', 'count']).set_index(['domain']).plot.bar(ax=ax)\n",
    "ax.set_title('firefox history')\n",
    "ax.grid()\n",
    "fig.tight_layout()\n",
    "fig.set_size_inches(10, 8)\n",
    "fig.savefig('firefox_history.png')\n",
    "#heapq.nlargest(15, domain_statistic, key=domain_statistic.get)\n"
   ]
  }
 ],
 "metadata": {
  "kernelspec": {
   "display_name": "Python 2",
   "language": "python",
   "name": "python2"
  },
  "language_info": {
   "codemirror_mode": {
    "name": "ipython",
    "version": 2
   },
   "file_extension": ".py",
   "mimetype": "text/x-python",
   "name": "python",
   "nbconvert_exporter": "python",
   "pygments_lexer": "ipython2",
   "version": "2.7.12"
  },
  "nikola": {
   "category": "",
   "date": "2017-11-13 23:10:49 UTC+08:00",
   "description": "",
   "link": "",
   "slug": "firefox-history",
   "tags": "",
   "title": "Firefox history",
   "type": "text"
  }
 },
 "nbformat": 4,
 "nbformat_minor": 2
}
